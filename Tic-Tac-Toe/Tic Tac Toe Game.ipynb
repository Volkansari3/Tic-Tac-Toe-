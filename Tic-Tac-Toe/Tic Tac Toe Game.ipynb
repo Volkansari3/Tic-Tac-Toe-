{
 "cells": [
  {
   "cell_type": "code",
   "execution_count": 1,
   "id": "04505658-3657-436b-9c51-5a0c95166bd4",
   "metadata": {},
   "outputs": [],
   "source": [
    "board = [\"\",\" \",\" \",\" \",\" \",\" \",\" \",\" \",\" \",\" \"]"
   ]
  },
  {
   "cell_type": "code",
   "execution_count": 3,
   "id": "4b4894c0-4dea-465c-aab0-3fc95beb6156",
   "metadata": {},
   "outputs": [],
   "source": [
    "from IPython.display import clear_output\n",
    "def display(board):\n",
    "    clear_output()\n",
    "    print(board[1] + \"|\" + board[2] + \"|\" + board[3])\n",
    "    print(\"\")\n",
    "    print(board[4] + \"|\" + board[5] + \"|\" + board[6])\n",
    "    print(\"\")\n",
    "    print(board[7] + \"|\" + board[8] + \"|\" + board[9])"
   ]
  },
  {
   "cell_type": "code",
   "execution_count": 7,
   "id": "f0011f74-a04f-4a78-98af-ed5926e10748",
   "metadata": {},
   "outputs": [],
   "source": [
    "def choose_first():\n",
    "    import random\n",
    "    coin = [\"H\",\"T\"]\n",
    "    choice = random.choice(coin)\n",
    "    player1 = input(\"Heads or Tails? (H or T)\")\n",
    "    if player1 == choice:\n",
    "        return \"Player1\"\n",
    "    else:\n",
    "        return \"Player2\"\n",
    "    "
   ]
  },
  {
   "cell_type": "code",
   "execution_count": 9,
   "id": "1d86136a-e4fd-418e-9e98-f382f090f8ec",
   "metadata": {},
   "outputs": [],
   "source": [
    "def choose_marker():\n",
    "    choice = \"wrong\"\n",
    "    while choice not in [\"X\",\"O\"]:\n",
    "        choice = input(\"Player select the marker (X or O)\")\n",
    "        if choice == \"X\":\n",
    "            return (\"X\",\"O\")\n",
    "        elif choice == \"O\":\n",
    "            return (\"O\",\"X\")\n",
    "        else:\n",
    "            print(\"Wrong choice please try again!\")"
   ]
  },
  {
   "cell_type": "code",
   "execution_count": 11,
   "id": "d530d951-c112-4f2a-90c9-b34490702de2",
   "metadata": {},
   "outputs": [],
   "source": [
    "def place_marker(board,position,marker):\n",
    "    board[position] = marker"
   ]
  },
  {
   "cell_type": "code",
   "execution_count": 13,
   "id": "7466a157-19b5-4fcb-9498-d6a87551f300",
   "metadata": {},
   "outputs": [],
   "source": [
    "def space_check(board,position):\n",
    "    if board[position] == \" \":\n",
    "        return True\n",
    "    else:\n",
    "        return False"
   ]
  },
  {
   "cell_type": "code",
   "execution_count": 15,
   "id": "e3e2afc8-86ba-4fd1-b481-99912c7d07c8",
   "metadata": {},
   "outputs": [],
   "source": [
    "def win_check(board,marker):\n",
    "    if (board[1] == board[2] == board[3] == marker or\n",
    "    board[4] == board[5] == board[6] == marker or\n",
    "    board[7] == board[8] == board[9] == marker or\n",
    "    board[1] == board[5] == board[9] == marker or\n",
    "    board[3] == board[5] == board[7] == marker or\n",
    "    board[1] == board[4] == board[7] == marker or\n",
    "    board[2] == board[5] == board[8] == marker or\n",
    "    board[3] == board[6] == board[9] == marker):\n",
    "        return True\n",
    "    else:\n",
    "        return False"
   ]
  },
  {
   "cell_type": "code",
   "execution_count": 17,
   "id": "f4af6fdf-654e-47a8-8688-e66aead73b66",
   "metadata": {},
   "outputs": [],
   "source": [
    "def replay():\n",
    "    replay = input(\"Are you want to play again? (Y or N)\")\n",
    "    if replay == \"Y\":\n",
    "        return True\n",
    "    else:\n",
    "        return False"
   ]
  },
  {
   "cell_type": "code",
   "execution_count": 19,
   "id": "2d518083-a475-4069-8c8f-d61411405290",
   "metadata": {},
   "outputs": [],
   "source": [
    "def board_full(board):\n",
    "    for i in range(1,10):\n",
    "        if space_check(board,i):\n",
    "            return False\n",
    "    return True\n",
    "            "
   ]
  },
  {
   "cell_type": "code",
   "execution_count": 25,
   "id": "9adabd5e-5d4d-490c-9ebf-e72954c06bb3",
   "metadata": {},
   "outputs": [],
   "source": [
    "def game():\n",
    "    print(\"Welcome to Tic Tac Toe Game!\")\n",
    "    count = 0\n",
    "    \n",
    "    while True:\n",
    "\n",
    "        if count == 0:\n",
    "            print(\"Are you ready? Lets start!\")\n",
    "            \n",
    "        else:\n",
    "            if replay() == True:\n",
    "                pass\n",
    "            else:\n",
    "                break\n",
    "            \n",
    "        board = [\"\",\" \",\" \",\" \",\" \",\" \",\" \",\" \",\" \",\" \"]\n",
    "        marker1,marker2 = choose_marker()\n",
    "        print(\"Please flip a coin and decide who is going to start the game\")\n",
    "        turn = choose_first()\n",
    "        print(f\"{turn} is starting to the game\")\n",
    "        count += 1\n",
    "        game_on = True\n",
    "        \n",
    "        while game_on:\n",
    "            \n",
    "            if turn == \"Player1\":\n",
    "                display(board)\n",
    "                position = int(input(\"Please select a position between 1-9\"))\n",
    "                \n",
    "                if space_check(board,position):\n",
    "                    place_marker(board,position,marker1)\n",
    "                    \n",
    "                    if win_check(board,marker1):\n",
    "                        display(board)\n",
    "                        print(\"Congratulations you won the game!\")\n",
    "                        game_on = False\n",
    "                        \n",
    "                    elif board_full(board):\n",
    "                        display(board)\n",
    "                        print(\"Its draw\")\n",
    "                        game_on = False\n",
    "           \n",
    "                    else:\n",
    "                        turn = \"Player2\"\n",
    "                else:\n",
    "                    print(\"This place is fulled please select another position\")\n",
    "                            \n",
    "            else:\n",
    "                \n",
    "                display(board)\n",
    "                position = int(input(\"Please select a position between 1-9\"))\n",
    "                \n",
    "                if space_check(board,position):\n",
    "                    place_marker(board,position,marker2)\n",
    "                    \n",
    "                    if win_check(board,marker2):\n",
    "                        display(board)\n",
    "                        print(\"Congratulations you won the game!\")\n",
    "                        game_on = False\n",
    "                        \n",
    "                    elif board_full(board):\n",
    "                        display(board)\n",
    "                        print(\"Its draw\")\n",
    "                        game_on = False\n",
    "                             \n",
    "                    else:\n",
    "                        turn = \"Player1\"\n",
    "                else:\n",
    "                    print(\"This place is fulled please select another position\")\n"
   ]
  }
 ],
 "metadata": {
  "kernelspec": {
   "display_name": "Python 3 (ipykernel)",
   "language": "python",
   "name": "python3"
  },
  "language_info": {
   "codemirror_mode": {
    "name": "ipython",
    "version": 3
   },
   "file_extension": ".py",
   "mimetype": "text/x-python",
   "name": "python",
   "nbconvert_exporter": "python",
   "pygments_lexer": "ipython3",
   "version": "3.12.4"
  }
 },
 "nbformat": 4,
 "nbformat_minor": 5
}
